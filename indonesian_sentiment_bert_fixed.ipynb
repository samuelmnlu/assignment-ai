{
  "cells": [
    {
      "cell_type": "markdown",
      "metadata": {
        "id": "view-in-github",
        "colab_type": "text"
      },
      "source": [
        "<a href=\"https://colab.research.google.com/github/samuelmnlu/assignment-ai/blob/main/indonesian_sentiment_bert_fixed.ipynb\" target=\"_parent\"><img src=\"https://colab.research.google.com/assets/colab-badge.svg\" alt=\"Open In Colab\"/></a>"
      ]
    },
    {
      "cell_type": "markdown",
      "metadata": {
        "id": "c2WhvpAnKDe7"
      },
      "source": [
        "# Indonesian Sentiment Classification with BERT\n",
        "This notebook implements a sentiment classifier for Indonesian text using the `indobert-base-p1` model."
      ],
      "id": "c2WhvpAnKDe7"
    },
    {
      "cell_type": "code",
      "source": [
        "!pip install transformers datasets scikit-learn"
      ],
      "metadata": {
        "id": "UaBxzY5NQYyg"
      },
      "id": "UaBxzY5NQYyg",
      "execution_count": null,
      "outputs": []
    },
    {
      "cell_type": "code",
      "execution_count": null,
      "metadata": {
        "id": "eBhy_nc2KDe_"
      },
      "outputs": [],
      "source": [
        "import torch\n",
        "from transformers import AutoTokenizer, AutoModelForSequenceClassification, Trainer, TrainingArguments\n",
        "from datasets import load_dataset, Dataset\n",
        "from sklearn.metrics import accuracy_score, precision_recall_fscore_support, confusion_matrix\n",
        "import numpy as np"
      ],
      "id": "eBhy_nc2KDe_"
    },
    {
      "cell_type": "code",
      "execution_count": null,
      "metadata": {
        "id": "hp03W2yXKDfA"
      },
      "outputs": [],
      "source": [
        "data = {\n",
        "    \"text\": [\"Produk ini sangat bagus\", \"Layanan sangat buruk\", \"Sangat puas dengan pembelian ini\", \"Saya kecewa sekali\", \"Barang sesuai deskripsi\", \"Tidak akan beli lagi\"],\n",
        "    \"label\": [1, 0, 1, 0, 1, 0]  # 1 = positif, 0 = negatif\n",
        "}\n",
        "\n",
        "dataset = Dataset.from_dict(data)\n",
        "dataset = dataset.train_test_split(test_size=0.2)"
      ],
      "id": "hp03W2yXKDfA"
    },
    {
      "cell_type": "code",
      "execution_count": null,
      "metadata": {
        "id": "oBXXwv8gKDfB"
      },
      "outputs": [],
      "source": [
        "model_checkpoint = \"indobenchmark/indobert-base-p1\"\n",
        "tokenizer = AutoTokenizer.from_pretrained(model_checkpoint)\n",
        "\n",
        "def tokenize_function(examples):\n",
        "    return tokenizer(examples[\"text\"], padding=\"max_length\", truncation=True)\n",
        "\n",
        "tokenized_datasets = dataset.map(tokenize_function, batched=True)"
      ],
      "id": "oBXXwv8gKDfB"
    },
    {
      "cell_type": "code",
      "execution_count": null,
      "metadata": {
        "id": "2Jj0YhSoKDfB"
      },
      "outputs": [],
      "source": [
        "model = AutoModelForSequenceClassification.from_pretrained(model_checkpoint, num_labels=2)"
      ],
      "id": "2Jj0YhSoKDfB"
    },
    {
      "cell_type": "code",
      "execution_count": null,
      "metadata": {
        "id": "VHKceUZLKDfC"
      },
      "outputs": [],
      "source": [
        "def compute_metrics(pred):\n",
        "    labels = pred.label_ids\n",
        "    preds = np.argmax(pred.predictions, axis=1)\n",
        "    precision, recall, f1, _ = precision_recall_fscore_support(labels, preds, average='binary')\n",
        "    acc = accuracy_score(labels, preds)\n",
        "    return {\n",
        "        'accuracy': acc,\n",
        "        'precision': precision,\n",
        "        'recall': recall,\n",
        "        'f1': f1,\n",
        "        'confusion_matrix': confusion_matrix(labels, preds).tolist()\n",
        "    }"
      ],
      "id": "VHKceUZLKDfC"
    },
    {
      "cell_type": "code",
      "execution_count": null,
      "metadata": {
        "id": "aWikA5ghKDfD"
      },
      "outputs": [],
      "source": [
        "training_args = TrainingArguments(\n",
        "    output_dir=\"./results\",\n",
        "    do_train=True,\n",
        "    do_eval=True,\n",
        "    learning_rate=2e-5,\n",
        "    per_device_train_batch_size=4,\n",
        "    per_device_eval_batch_size=4,\n",
        "    num_train_epochs=5,\n",
        "    weight_decay=0.01,\n",
        "    logging_dir='./logs',\n",
        ")\n",
        "\n",
        "trainer = Trainer(\n",
        "    model=model,\n",
        "    args=training_args,\n",
        "    train_dataset=tokenized_datasets[\"train\"],\n",
        "    eval_dataset=tokenized_datasets[\"test\"],\n",
        "    compute_metrics=compute_metrics,\n",
        ")\n",
        "\n",
        "trainer.train()"
      ],
      "id": "aWikA5ghKDfD"
    },
    {
      "cell_type": "code",
      "execution_count": null,
      "metadata": {
        "id": "21F5pc1vKDfD"
      },
      "outputs": [],
      "source": [
        "# 6. Train the model\n",
        "trainer.train()"
      ],
      "id": "21F5pc1vKDfD"
    },
    {
      "cell_type": "code",
      "execution_count": null,
      "metadata": {
        "id": "kSuWEon9KDfE"
      },
      "outputs": [],
      "source": [
        "# 7. Evaluation\n",
        "results = trainer.evaluate()\n",
        "print(\"\\nEvaluation Results:\")\n",
        "print(results)"
      ],
      "id": "kSuWEon9KDfE"
    },
    {
      "cell_type": "code",
      "execution_count": null,
      "metadata": {
        "id": "iQ5lXe6dKDfE"
      },
      "outputs": [],
      "source": [
        "# Confusion Matrix\n",
        "predictions = trainer.predict(test_data)\n",
        "preds = np.argmax(predictions.predictions, axis=1)\n",
        "labels = predictions.label_ids\n",
        "cm = confusion_matrix(labels, preds)\n",
        "print(\"\\nConfusion Matrix:\\n\", cm)"
      ],
      "id": "iQ5lXe6dKDfE"
    },
    {
      "cell_type": "code",
      "source": [
        "# 8. Error Analysis\n",
        "errors = []\n",
        "for i in range(len(preds)):\n",
        "    if preds[i] != labels[i]:\n",
        "        errors.append((test_data[i]['text'], labels[i], preds[i]))\n",
        "\n",
        "error_df = pd.DataFrame(errors, columns=[\"Text\", \"True Label\", \"Predicted Label\"])\n",
        "print(\"\\nSample Errors:\\n\", error_df.head())"
      ],
      "metadata": {
        "id": "TVYmIEbaSbyu"
      },
      "id": "TVYmIEbaSbyu",
      "execution_count": null,
      "outputs": []
    }
  ],
  "metadata": {
    "kernelspec": {
      "display_name": "Python 3",
      "language": "python",
      "name": "python3"
    },
    "language_info": {
      "name": "python",
      "version": "3.x"
    },
    "colab": {
      "provenance": [],
      "include_colab_link": true
    }
  },
  "nbformat": 4,
  "nbformat_minor": 5
}